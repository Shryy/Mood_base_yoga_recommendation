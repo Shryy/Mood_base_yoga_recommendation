{
  "nbformat": 4,
  "nbformat_minor": 0,
  "metadata": {
    "colab": {
      "provenance": [],
      "gpuType": "T4"
    },
    "kernelspec": {
      "name": "python3",
      "display_name": "Python 3"
    },
    "language_info": {
      "name": "python"
    },
    "accelerator": "GPU"
  },
  "cells": [
    {
      "cell_type": "code",
      "execution_count": null,
      "metadata": {
        "colab": {
          "base_uri": "https://localhost:8080/"
        },
        "id": "gWgPlo9Szxlt",
        "outputId": "65d8610a-c098-4572-dece-72cb932933bf"
      },
      "outputs": [
        {
          "output_type": "stream",
          "name": "stdout",
          "text": [
            "Requirement already satisfied: numpy in /usr/local/lib/python3.10/dist-packages (1.26.4)\n",
            "Requirement already satisfied: pandas in /usr/local/lib/python3.10/dist-packages (2.2.2)\n",
            "Requirement already satisfied: scikit-learn in /usr/local/lib/python3.10/dist-packages (1.5.2)\n",
            "Requirement already satisfied: tensorflow in /usr/local/lib/python3.10/dist-packages (2.17.1)\n",
            "Requirement already satisfied: python-dateutil>=2.8.2 in /usr/local/lib/python3.10/dist-packages (from pandas) (2.8.2)\n",
            "Requirement already satisfied: pytz>=2020.1 in /usr/local/lib/python3.10/dist-packages (from pandas) (2024.2)\n",
            "Requirement already satisfied: tzdata>=2022.7 in /usr/local/lib/python3.10/dist-packages (from pandas) (2024.2)\n",
            "Requirement already satisfied: scipy>=1.6.0 in /usr/local/lib/python3.10/dist-packages (from scikit-learn) (1.13.1)\n",
            "Requirement already satisfied: joblib>=1.2.0 in /usr/local/lib/python3.10/dist-packages (from scikit-learn) (1.4.2)\n",
            "Requirement already satisfied: threadpoolctl>=3.1.0 in /usr/local/lib/python3.10/dist-packages (from scikit-learn) (3.5.0)\n",
            "Requirement already satisfied: absl-py>=1.0.0 in /usr/local/lib/python3.10/dist-packages (from tensorflow) (1.4.0)\n",
            "Requirement already satisfied: astunparse>=1.6.0 in /usr/local/lib/python3.10/dist-packages (from tensorflow) (1.6.3)\n",
            "Requirement already satisfied: flatbuffers>=24.3.25 in /usr/local/lib/python3.10/dist-packages (from tensorflow) (24.3.25)\n",
            "Requirement already satisfied: gast!=0.5.0,!=0.5.1,!=0.5.2,>=0.2.1 in /usr/local/lib/python3.10/dist-packages (from tensorflow) (0.6.0)\n",
            "Requirement already satisfied: google-pasta>=0.1.1 in /usr/local/lib/python3.10/dist-packages (from tensorflow) (0.2.0)\n",
            "Requirement already satisfied: h5py>=3.10.0 in /usr/local/lib/python3.10/dist-packages (from tensorflow) (3.12.1)\n",
            "Requirement already satisfied: libclang>=13.0.0 in /usr/local/lib/python3.10/dist-packages (from tensorflow) (18.1.1)\n",
            "Requirement already satisfied: ml-dtypes<0.5.0,>=0.3.1 in /usr/local/lib/python3.10/dist-packages (from tensorflow) (0.4.1)\n",
            "Requirement already satisfied: opt-einsum>=2.3.2 in /usr/local/lib/python3.10/dist-packages (from tensorflow) (3.4.0)\n",
            "Requirement already satisfied: packaging in /usr/local/lib/python3.10/dist-packages (from tensorflow) (24.2)\n",
            "Requirement already satisfied: protobuf!=4.21.0,!=4.21.1,!=4.21.2,!=4.21.3,!=4.21.4,!=4.21.5,<5.0.0dev,>=3.20.3 in /usr/local/lib/python3.10/dist-packages (from tensorflow) (4.25.5)\n",
            "Requirement already satisfied: requests<3,>=2.21.0 in /usr/local/lib/python3.10/dist-packages (from tensorflow) (2.32.3)\n",
            "Requirement already satisfied: setuptools in /usr/local/lib/python3.10/dist-packages (from tensorflow) (75.1.0)\n",
            "Requirement already satisfied: six>=1.12.0 in /usr/local/lib/python3.10/dist-packages (from tensorflow) (1.16.0)\n",
            "Requirement already satisfied: termcolor>=1.1.0 in /usr/local/lib/python3.10/dist-packages (from tensorflow) (2.5.0)\n",
            "Requirement already satisfied: typing-extensions>=3.6.6 in /usr/local/lib/python3.10/dist-packages (from tensorflow) (4.12.2)\n",
            "Requirement already satisfied: wrapt>=1.11.0 in /usr/local/lib/python3.10/dist-packages (from tensorflow) (1.17.0)\n",
            "Requirement already satisfied: grpcio<2.0,>=1.24.3 in /usr/local/lib/python3.10/dist-packages (from tensorflow) (1.68.1)\n",
            "Requirement already satisfied: tensorboard<2.18,>=2.17 in /usr/local/lib/python3.10/dist-packages (from tensorflow) (2.17.1)\n",
            "Requirement already satisfied: keras>=3.2.0 in /usr/local/lib/python3.10/dist-packages (from tensorflow) (3.5.0)\n",
            "Requirement already satisfied: tensorflow-io-gcs-filesystem>=0.23.1 in /usr/local/lib/python3.10/dist-packages (from tensorflow) (0.37.1)\n",
            "Requirement already satisfied: wheel<1.0,>=0.23.0 in /usr/local/lib/python3.10/dist-packages (from astunparse>=1.6.0->tensorflow) (0.45.1)\n",
            "Requirement already satisfied: rich in /usr/local/lib/python3.10/dist-packages (from keras>=3.2.0->tensorflow) (13.9.4)\n",
            "Requirement already satisfied: namex in /usr/local/lib/python3.10/dist-packages (from keras>=3.2.0->tensorflow) (0.0.8)\n",
            "Requirement already satisfied: optree in /usr/local/lib/python3.10/dist-packages (from keras>=3.2.0->tensorflow) (0.13.1)\n",
            "Requirement already satisfied: charset-normalizer<4,>=2 in /usr/local/lib/python3.10/dist-packages (from requests<3,>=2.21.0->tensorflow) (3.4.0)\n",
            "Requirement already satisfied: idna<4,>=2.5 in /usr/local/lib/python3.10/dist-packages (from requests<3,>=2.21.0->tensorflow) (3.10)\n",
            "Requirement already satisfied: urllib3<3,>=1.21.1 in /usr/local/lib/python3.10/dist-packages (from requests<3,>=2.21.0->tensorflow) (2.2.3)\n",
            "Requirement already satisfied: certifi>=2017.4.17 in /usr/local/lib/python3.10/dist-packages (from requests<3,>=2.21.0->tensorflow) (2024.8.30)\n",
            "Requirement already satisfied: markdown>=2.6.8 in /usr/local/lib/python3.10/dist-packages (from tensorboard<2.18,>=2.17->tensorflow) (3.7)\n",
            "Requirement already satisfied: tensorboard-data-server<0.8.0,>=0.7.0 in /usr/local/lib/python3.10/dist-packages (from tensorboard<2.18,>=2.17->tensorflow) (0.7.2)\n",
            "Requirement already satisfied: werkzeug>=1.0.1 in /usr/local/lib/python3.10/dist-packages (from tensorboard<2.18,>=2.17->tensorflow) (3.1.3)\n",
            "Requirement already satisfied: MarkupSafe>=2.1.1 in /usr/local/lib/python3.10/dist-packages (from werkzeug>=1.0.1->tensorboard<2.18,>=2.17->tensorflow) (3.0.2)\n",
            "Requirement already satisfied: markdown-it-py>=2.2.0 in /usr/local/lib/python3.10/dist-packages (from rich->keras>=3.2.0->tensorflow) (3.0.0)\n",
            "Requirement already satisfied: pygments<3.0.0,>=2.13.0 in /usr/local/lib/python3.10/dist-packages (from rich->keras>=3.2.0->tensorflow) (2.18.0)\n",
            "Requirement already satisfied: mdurl~=0.1 in /usr/local/lib/python3.10/dist-packages (from markdown-it-py>=2.2.0->rich->keras>=3.2.0->tensorflow) (0.1.2)\n"
          ]
        }
      ],
      "source": [
        "pip install numpy pandas scikit-learn tensorflow\n"
      ]
    },
    {
      "cell_type": "code",
      "source": [
        "import json\n",
        "from zipfile import ZipFile\n",
        "kaggle_credentails = json.load(open(\"kaggle.json\"))"
      ],
      "metadata": {
        "id": "ZkcA1HXxz4UX"
      },
      "execution_count": 1,
      "outputs": []
    },
    {
      "cell_type": "code",
      "source": [
        "# setup Kaggle API key as environment variables\n",
        "import os\n",
        "os.environ['KAGGLE_USERNAME'] = kaggle_credentails[\"username\"]\n",
        "os.environ['KAGGLE_KEY'] = kaggle_credentails[\"key\"]"
      ],
      "metadata": {
        "id": "4Nrimgi_1FJh"
      },
      "execution_count": 2,
      "outputs": []
    },
    {
      "cell_type": "code",
      "source": [
        "#!/bin/bash\n",
        "!kaggle datasets download praveengovi/emotions-dataset-for-nlp"
      ],
      "metadata": {
        "colab": {
          "base_uri": "https://localhost:8080/"
        },
        "id": "y-243mrl1PXa",
        "outputId": "a4159eb9-1d07-4025-ffd2-a72fa121b862"
      },
      "execution_count": 3,
      "outputs": [
        {
          "output_type": "stream",
          "name": "stdout",
          "text": [
            "Dataset URL: https://www.kaggle.com/datasets/praveengovi/emotions-dataset-for-nlp\n",
            "License(s): CC-BY-SA-4.0\n",
            "Downloading emotions-dataset-for-nlp.zip to /content\n",
            "  0% 0.00/721k [00:00<?, ?B/s]\n",
            "100% 721k/721k [00:00<00:00, 66.7MB/s]\n"
          ]
        }
      ]
    },
    {
      "cell_type": "code",
      "source": [
        "!ls\n"
      ],
      "metadata": {
        "colab": {
          "base_uri": "https://localhost:8080/"
        },
        "id": "kYqf-VOo1joo",
        "outputId": "0a230e8c-dd33-4b3a-e9c4-0eba86f1f682"
      },
      "execution_count": 4,
      "outputs": [
        {
          "output_type": "stream",
          "name": "stdout",
          "text": [
            "emotions-dataset-for-nlp.zip  kaggle.json  sample_data\n"
          ]
        }
      ]
    },
    {
      "cell_type": "code",
      "source": [
        "# Unzip the downloaded dataset\n",
        "with ZipFile(\"emotions-dataset-for-nlp.zip\", 'r') as zip_ref:\n",
        "    zip_ref.extractall()"
      ],
      "metadata": {
        "id": "xOPUgYjL1qic"
      },
      "execution_count": 5,
      "outputs": []
    },
    {
      "cell_type": "code",
      "source": [
        "import pandas as pd\n",
        "\n",
        "# Load dataset\n",
        "def load_data(file_path):\n",
        "    data = []\n",
        "    with open(file_path, 'r') as file:\n",
        "        for line in file:\n",
        "            text, emotion = line.strip().split(';')\n",
        "            data.append((text, emotion))\n",
        "    return pd.DataFrame(data, columns=['Text', 'Emotion'])\n",
        "\n",
        "# Load train, validation, and test datasets\n",
        "train_data = load_data('/content/train.txt')\n",
        "val_data = load_data('/content/val.txt')\n",
        "test_data = load_data('/content/test.txt')\n",
        "\n",
        "# Display sample data\n",
        "print(train_data.head())\n"
      ],
      "metadata": {
        "id": "2xTDo6Tc172u",
        "colab": {
          "base_uri": "https://localhost:8080/"
        },
        "outputId": "2507d58e-4d3a-4ef7-972c-2b9c582b5313"
      },
      "execution_count": 6,
      "outputs": [
        {
          "output_type": "stream",
          "name": "stdout",
          "text": [
            "                                                Text  Emotion\n",
            "0                            i didnt feel humiliated  sadness\n",
            "1  i can go from feeling so hopeless to so damned...  sadness\n",
            "2   im grabbing a minute to post i feel greedy wrong    anger\n",
            "3  i am ever feeling nostalgic about the fireplac...     love\n",
            "4                               i am feeling grouchy    anger\n"
          ]
        }
      ]
    },
    {
      "cell_type": "code",
      "source": [
        "from sklearn.feature_extraction.text import TfidfVectorizer\n",
        "\n",
        "# TF-IDF vectorizer\n",
        "vectorizer = TfidfVectorizer(max_features=5000)\n",
        "X_train = vectorizer.fit_transform(train_data['Text']).toarray()\n",
        "X_val = vectorizer.transform(val_data['Text']).toarray()\n",
        "X_test = vectorizer.transform(test_data['Text']).toarray()\n",
        "\n",
        "# Encode labels\n",
        "from sklearn.preprocessing import LabelEncoder\n",
        "encoder = LabelEncoder()\n",
        "y_train = encoder.fit_transform(train_data['Emotion'])\n",
        "y_val = encoder.transform(val_data['Emotion'])\n",
        "y_test = encoder.transform(test_data['Emotion'])\n"
      ],
      "metadata": {
        "id": "ikPo3jn_4G3_"
      },
      "execution_count": 7,
      "outputs": []
    },
    {
      "cell_type": "code",
      "source": [
        "# Inspecting the shape of the transformed data\n",
        "print(\"Shape of X_train:\", X_train.shape)\n",
        "print(\"Shape of X_val:\", X_val.shape)\n",
        "print(\"Shape of X_test:\", X_test.shape)\n",
        "\n",
        "# Convert a sample of the TF-IDF matrix to DataFrame to view features\n",
        "X_train_df = pd.DataFrame(X_train, columns=vectorizer.get_feature_names_out())\n",
        "print(X_train_df.head())\n"
      ],
      "metadata": {
        "colab": {
          "base_uri": "https://localhost:8080/"
        },
        "id": "iWp-SGqd4R-q",
        "outputId": "4f80920b-e560-487a-85b1-4dea4be1f32f"
      },
      "execution_count": 8,
      "outputs": [
        {
          "output_type": "stream",
          "name": "stdout",
          "text": [
            "Shape of X_train: (16000, 5000)\n",
            "Shape of X_val: (2000, 5000)\n",
            "Shape of X_test: (2000, 5000)\n",
            "   abandon  abandoned  abandonment  abc  abdomen  abide  abilities  ability  \\\n",
            "0      0.0        0.0          0.0  0.0      0.0    0.0        0.0      0.0   \n",
            "1      0.0        0.0          0.0  0.0      0.0    0.0        0.0      0.0   \n",
            "2      0.0        0.0          0.0  0.0      0.0    0.0        0.0      0.0   \n",
            "3      0.0        0.0          0.0  0.0      0.0    0.0        0.0      0.0   \n",
            "4      0.0        0.0          0.0  0.0      0.0    0.0        0.0      0.0   \n",
            "\n",
            "   abit  able  ...  yours  yourself  youth  youtube  youve  zealand  zero  \\\n",
            "0   0.0   0.0  ...    0.0       0.0    0.0      0.0    0.0      0.0   0.0   \n",
            "1   0.0   0.0  ...    0.0       0.0    0.0      0.0    0.0      0.0   0.0   \n",
            "2   0.0   0.0  ...    0.0       0.0    0.0      0.0    0.0      0.0   0.0   \n",
            "3   0.0   0.0  ...    0.0       0.0    0.0      0.0    0.0      0.0   0.0   \n",
            "4   0.0   0.0  ...    0.0       0.0    0.0      0.0    0.0      0.0   0.0   \n",
            "\n",
            "   zombie  zone  zumba  \n",
            "0     0.0   0.0    0.0  \n",
            "1     0.0   0.0    0.0  \n",
            "2     0.0   0.0    0.0  \n",
            "3     0.0   0.0    0.0  \n",
            "4     0.0   0.0    0.0  \n",
            "\n",
            "[5 rows x 5000 columns]\n"
          ]
        }
      ]
    },
    {
      "cell_type": "code",
      "source": [
        "# Viewing the encoded labels for training data\n",
        "print(\"Encoded y_train:\", y_train[:10])  # Show the first 10 encoded labels\n",
        "\n",
        "# Viewing the corresponding emotion labels\n",
        "print(\"Original labels for y_train:\", encoder.inverse_transform(y_train[:10]))  # Show original emotion labels\n",
        "\n",
        "# Check label distribution\n",
        "print(\"Label distribution in y_train:\", pd.Series(y_train).value_counts())\n"
      ],
      "metadata": {
        "colab": {
          "base_uri": "https://localhost:8080/"
        },
        "id": "3ObXseC74ugB",
        "outputId": "b754f47c-b710-44ce-f6e5-8db5f735f44e"
      },
      "execution_count": 9,
      "outputs": [
        {
          "output_type": "stream",
          "name": "stdout",
          "text": [
            "Encoded y_train: [4 4 0 3 0 4 5 1 2 3]\n",
            "Original labels for y_train: ['sadness' 'sadness' 'anger' 'love' 'anger' 'sadness' 'surprise' 'fear'\n",
            " 'joy' 'love']\n",
            "Label distribution in y_train: 2    5362\n",
            "4    4666\n",
            "0    2159\n",
            "1    1937\n",
            "3    1304\n",
            "5     572\n",
            "Name: count, dtype: int64\n"
          ]
        }
      ]
    },
    {
      "cell_type": "code",
      "source": [
        "from sklearn.linear_model import LogisticRegression\n",
        "from sklearn.metrics import classification_report\n",
        "\n",
        "# Train the model\n",
        "model = LogisticRegression(max_iter=200)\n",
        "model.fit(X_train, y_train)\n",
        "\n",
        "# Validate the model\n",
        "y_pred_val = model.predict(X_val)\n",
        "print(classification_report(y_val, y_pred_val, target_names=encoder.classes_))\n"
      ],
      "metadata": {
        "colab": {
          "base_uri": "https://localhost:8080/"
        },
        "id": "HJl0oFxs41g8",
        "outputId": "2ee8440a-8cbb-43c8-9c4a-ea5fdb256f48"
      },
      "execution_count": 11,
      "outputs": [
        {
          "output_type": "stream",
          "name": "stdout",
          "text": [
            "              precision    recall  f1-score   support\n",
            "\n",
            "       anger       0.91      0.82      0.87       275\n",
            "        fear       0.85      0.75      0.80       212\n",
            "         joy       0.85      0.94      0.89       704\n",
            "        love       0.89      0.63      0.74       178\n",
            "     sadness       0.86      0.94      0.90       550\n",
            "    surprise       0.84      0.58      0.69        81\n",
            "\n",
            "    accuracy                           0.86      2000\n",
            "   macro avg       0.87      0.78      0.81      2000\n",
            "weighted avg       0.86      0.86      0.86      2000\n",
            "\n"
          ]
        }
      ]
    },
    {
      "cell_type": "code",
      "source": [
        "\n",
        "\n",
        "# Expanded emotions and corresponding yoga routines with YouTube links\n",
        "emotion_to_yoga = {\n",
        "    \"joy\": {\n",
        "        \"routine\": [\"Energizing Yoga: Sun Salutations, Backbends\", \"Vinyasa Flow\"],\n",
        "        \"video_links\": [\n",
        "            \"https://youtu.be/1xRX1MuoImw?si=Fx9P_Ad-Yxa0VE2K\",  # Sun Salutations Tutorial\n",
        "            \"https://youtu.be/Wix86Uw0cWc?si=leTkwvWDw1ZL3cgs\"   # Vinyasa Flow Tutorial\n",
        "        ]\n",
        "    },\n",
        "    \"sadness\": {\n",
        "        \"routine\": [\"Calming Yoga: Child's Pose, Forward Folds\", \"Restorative Yoga: Legs Up the Wall\"],\n",
        "        \"video_links\": [\n",
        "            \"https://youtu.be/2MJGg-dUKh0?si=hpMb9PxHtG9VBJUA\",  # Child's Pose Tutorial\n",
        "            \"https://youtu.be/do_1LisFah0?si=vN19sTl_r_rbtDZh\"   # Legs Up the Wall Tutorial\n",
        "        ]\n",
        "    },\n",
        "    \"anger\": {\n",
        "        \"routine\": [\"Cooling Yoga: Alternate Nostril Breathing, Seated Twists\", \"Yin Yoga: Deep Stretching\"],\n",
        "        \"video_links\": [\n",
        "            \"https://youtu.be/8VwufJrUhic?si=y46S2Y7ZPWBcCSzA\",  # Alternate Nostril Breathing\n",
        "            \"https://youtu.be/IYiV4ztPVu0?si=DFVlzNbjvOSyWbmh\"   # Yin Yoga Deep Stretching\n",
        "        ]\n",
        "    },\n",
        "    \"fear\": {\n",
        "        \"routine\": [\"Grounding Yoga: Tree Pose, Warrior II\", \"Root Chakra Yoga: Focus on Stability\"],\n",
        "        \"video_links\": [\n",
        "            \"https://youtu.be/uELr6MPi7pI?si=CjDNg11IdlBSbdX-\",  # Tree Pose Tutorial\n",
        "            \"https://youtu.be/0pbuvhbg7po?si=qlfsRle5uHdq9m7h\"   # Root Chakra Yoga\n",
        "        ]\n",
        "    },\n",
        "    \"love\": {\n",
        "        \"routine\": [\"Heart-Opening Yoga: Cobra, Camel Pose\", \"Chest and Shoulders Yoga: Poses for Love\"],\n",
        "        \"video_links\": [\n",
        "            \"https://youtu.be/luTSRGXPEMs?si=UKHa5PhuXD2v2dIP\",  # Cobra Pose Tutorial\n",
        "            \"https://youtu.be/CZJVeUD_Ou8?si=pe2Fk0XAMGP4XtA1\"   # Chest and Shoulders Yoga Tutorial\n",
        "        ]\n",
        "    },\n",
        "    \"stress\": {\n",
        "        \"routine\": [\"Stress Relief Yoga: Seated Forward Bend, Savasana\", \"Breathing Exercises: Box Breathing\"],\n",
        "        \"video_links\": [\n",
        "            \"https://www.youtube.com/watch?v=gGV8P4yJhT4\",  # Seated Forward Bend Tutorial\n",
        "            \"https://www.youtube.com/watch?v=I02zRE9cV9I\"   # Box Breathing Tutorial\n",
        "        ]\n",
        "    },\n",
        "    \"anxiety\": {\n",
        "        \"routine\": [\"Gentle Yoga: Cat-Cow Pose, Child's Pose\", \"Breathing & Relaxation: Pranayama\"],\n",
        "        \"video_links\": [\n",
        "            \"https://youtube.com/shorts/MeVmhLxrQSk?si=y6Zm4cExmo6NMNsn\",  # Cat-Cow Pose Tutorial\n",
        "            \"https://youtu.be/I77hh5I69gA?si=JuimCUuvnTPDm6jr\"   # Pranayama Breathing\n",
        "        ]\n",
        "    },\n",
        "    \"grief\": {\n",
        "        \"routine\": [\"Healing Yoga: Gentle Spinal Twist, Savasana\", \"Emotional Release Yoga\"],\n",
        "        \"video_links\": [\n",
        "            \"https://youtu.be/qEVNj4tcr0Y?si=7QeSLz1y3oxy5pvg\",  # Gentle Spinal Twist\n",
        "            \"https://youtu.be/K-0RWe0NdWw?si=eRAGUIHcKcFzDbmd\"   # Emotional Release Yoga\n",
        "        ]\n",
        "    },\n",
        "    \"excitement\": {\n",
        "        \"routine\": [\"Dynamic Yoga: Chair Pose, Boat Pose\", \"Flow Yoga: Dynamic Vinyasa\"],\n",
        "        \"video_links\": [\n",
        "            \"hhttps://youtu.be/qQZOlIHMlmA?si=J3D0fDOEdGLNGTLu\",  # Chair Pose Tutorial\n",
        "            \"https://youtu.be/Z6jRKThDCBU?si=8a3Zb6mIfF6xcJNE\"   # Vinyasa Flow Tutorial\n",
        "        ]\n",
        "    }\n",
        "}\n"
      ],
      "metadata": {
        "id": "SU4yc1s447qn"
      },
      "execution_count": 12,
      "outputs": []
    },
    {
      "cell_type": "code",
      "source": [
        "def recommend_yoga(text):\n",
        "    text_vector = vectorizer.transform([text]).toarray()\n",
        "    predicted_emotion = encoder.inverse_transform(model.predict(text_vector))[0]\n",
        "\n",
        "    # Get the recommended yoga routines and video links\n",
        "    yoga_info = emotion_to_yoga.get(predicted_emotion, {\"routine\": [\"General Relaxation Yoga\"], \"video_links\": [\"https://www.youtube.com\"]})\n",
        "\n",
        "    return yoga_info[\"routine\"], yoga_info[\"video_links\"]\n"
      ],
      "metadata": {
        "id": "YHqQzuS56uP_"
      },
      "execution_count": 13,
      "outputs": []
    },
    {
      "cell_type": "code",
      "source": [
        "\n",
        "user_input = \"I am feeling nervous\"\n",
        "routines, video_links = recommend_yoga(user_input)\n",
        "\n",
        "print(\"Recommended Yoga Routines:\")\n",
        "for routine, link in zip(routines, video_links):\n",
        "    print(f\"- {routine}: {link}\")\n",
        "\n"
      ],
      "metadata": {
        "colab": {
          "base_uri": "https://localhost:8080/"
        },
        "id": "L3a71Ksu5C0F",
        "outputId": "0502154b-0415-421e-8d5e-160b0be09877"
      },
      "execution_count": 14,
      "outputs": [
        {
          "output_type": "stream",
          "name": "stdout",
          "text": [
            "Recommended Yoga Routines:\n",
            "- Grounding Yoga: Tree Pose, Warrior II: https://youtu.be/uELr6MPi7pI?si=CjDNg11IdlBSbdX-\n",
            "- Root Chakra Yoga: Focus on Stability: https://youtu.be/0pbuvhbg7po?si=qlfsRle5uHdq9m7h\n"
          ]
        }
      ]
    },
    {
      "cell_type": "code",
      "source": [],
      "metadata": {
        "id": "lnrhLl5cNyDn"
      },
      "execution_count": null,
      "outputs": []
    }
  ]
}